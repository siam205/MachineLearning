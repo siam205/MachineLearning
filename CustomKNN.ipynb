{
  "nbformat": 4,
  "nbformat_minor": 0,
  "metadata": {
    "colab": {
      "provenance": [],
      "authorship_tag": "ABX9TyMq70uttc+4uOL2k32qZfi6",
      "include_colab_link": true
    },
    "kernelspec": {
      "name": "python3",
      "display_name": "Python 3"
    },
    "language_info": {
      "name": "python"
    }
  },
  "cells": [
    {
      "cell_type": "markdown",
      "metadata": {
        "id": "view-in-github",
        "colab_type": "text"
      },
      "source": [
        "<a href=\"https://colab.research.google.com/github/siam205/MachineLearning/blob/main/CustomKNN.ipynb\" target=\"_parent\"><img src=\"https://colab.research.google.com/assets/colab-badge.svg\" alt=\"Open In Colab\"/></a>"
      ]
    },
    {
      "cell_type": "code",
      "execution_count": 6,
      "metadata": {
        "id": "1EWs9-Sb0x_E"
      },
      "outputs": [],
      "source": [
        "#KNN from scratch\n",
        "\n",
        "import numpy as np\n",
        "from collections import Counter\n",
        "\n",
        "def euclidean_distance(x1, x2):\n",
        "    return np.sqrt(np.sum((x1 - x2) ** 2))\n",
        "\n",
        "class CustomKNN:\n",
        "    def __init__(self, k=3):\n",
        "        self.k = k\n",
        "\n",
        "    def fit(self, X_train, y_train):\n",
        "        self.X_train = X_train\n",
        "        self.y_train = y_train\n",
        "\n",
        "    def predict(self, X_test):\n",
        "        return [self._predict(x) for x in X_test]\n",
        "\n",
        "    def _predict(self, x):\n",
        "        distances = [euclidean_distance(x, x_train) for x_train in self.X_train]\n",
        "        k_indices = np.argsort(distances)[:self.k]\n",
        "        k_labels = [self.y_train[i] for i in k_indices]\n",
        "        return Counter(k_labels).most_common(1)[0][0]\n"
      ]
    },
    {
      "cell_type": "code",
      "source": [
        "#Custom Evaluation Matrics\n",
        "\n",
        "import numpy as np\n",
        "\n",
        "def accuracy_score_custom(y_true, y_pred):\n",
        "    return np.mean(np.array(y_true) == np.array(y_pred))\n",
        "\n",
        "def confusion_matrix_custom(y_true, y_pred, labels):\n",
        "    n = len(labels)\n",
        "    label_to_index = {label: i for i, label in enumerate(labels)}\n",
        "    cm = np.zeros((n, n), dtype=int)\n",
        "\n",
        "    for t, p in zip(y_true, y_pred):\n",
        "        i = label_to_index[t]\n",
        "        j = label_to_index[p]\n",
        "        cm[i][j] += 1\n",
        "\n",
        "    return cm\n",
        "\n",
        "def precision_recall_f1_custom(cm):\n",
        "    TP = np.diag(cm)\n",
        "    FP = np.sum(cm, axis=0) - TP\n",
        "    FN = np.sum(cm, axis=1) - TP\n",
        "\n",
        "    precision = TP / (TP + FP + 1e-8)\n",
        "    recall = TP / (TP + FN + 1e-8)\n",
        "    f1 = 2 * precision * recall / (precision + recall + 1e-8)\n",
        "\n",
        "    return precision, recall, f1\n",
        "\n"
      ],
      "metadata": {
        "id": "leaoKLNx2C9N"
      },
      "execution_count": 7,
      "outputs": []
    },
    {
      "cell_type": "code",
      "source": [
        "from sklearn.datasets import load_iris\n",
        "import numpy as np\n",
        "import pandas as pd\n",
        "\n",
        "# Load Iris Dataset\n",
        "iris = load_iris()\n",
        "X_iris = iris.data\n",
        "y_iris = iris.target\n",
        "label_names_iris = iris.target_names\n",
        "print(iris.target_names)"
      ],
      "metadata": {
        "colab": {
          "base_uri": "https://localhost:8080/"
        },
        "id": "6BgSqNi17xKY",
        "outputId": "16cea497-5f5f-4d41-cfa1-0f613b63d9c7"
      },
      "execution_count": 8,
      "outputs": [
        {
          "output_type": "stream",
          "name": "stdout",
          "text": [
            "['setosa' 'versicolor' 'virginica']\n"
          ]
        }
      ]
    },
    {
      "cell_type": "code",
      "source": [
        "# Load News Dataset\n",
        "news_df = pd.read_csv(\"news_dataset.csv\")\n",
        "\n",
        "news_df = news_df.sample(frac=1, random_state=42).reset_index(drop=True)\n",
        "\n",
        "texts = news_df['text'].values\n",
        "labels = news_df['label'].values\n"
      ],
      "metadata": {
        "id": "M90MhuLz8BUZ"
      },
      "execution_count": 9,
      "outputs": []
    },
    {
      "cell_type": "code",
      "source": [
        "#Preprocessing iris dataset\n",
        "from sklearn.preprocessing import MinMaxScaler\n",
        "\n",
        "scaler = MinMaxScaler()\n",
        "X_iris_scaled = scaler.fit_transform(X_iris)\n"
      ],
      "metadata": {
        "id": "PhbO385f9TEs"
      },
      "execution_count": 10,
      "outputs": []
    },
    {
      "cell_type": "code",
      "source": [
        "#Preprocessing news dataset\n",
        "\n",
        "from sklearn.feature_extraction.text import TfidfVectorizer\n",
        "from sklearn.preprocessing import LabelEncoder\n",
        "\n",
        "# Convert text to TF-IDF features\n",
        "vectorizer = TfidfVectorizer()\n",
        "X_news = vectorizer.fit_transform(texts).toarray()\n",
        "\n",
        "# Encode labels into integers\n",
        "label_encoder = LabelEncoder()\n",
        "y_news = label_encoder.fit_transform(labels)\n",
        "\n",
        "label_names_news = label_encoder.classes_\n"
      ],
      "metadata": {
        "id": "zrxNrLPB9Y5x"
      },
      "execution_count": 11,
      "outputs": []
    },
    {
      "cell_type": "code",
      "source": [
        "#Train-test split + tune k and evaluate for iris dataset\n",
        "\n",
        "from sklearn.model_selection import train_test_split\n",
        "\n",
        "best_k_iris = 1\n",
        "best_acc_iris = 0\n",
        "\n",
        "for k in range(1, 11):\n",
        "    X_train, X_test, y_train, y_test = train_test_split(X_iris_scaled, y_iris, test_size=0.3, random_state=42)\n",
        "\n",
        "    model = CustomKNN(k=k)\n",
        "    model.fit(X_train, y_train)\n",
        "    y_pred = model.predict(X_test)\n",
        "\n",
        "    acc = accuracy_score_custom(y_test, y_pred)\n",
        "    print(f\"Iris: k={k}, Accuracy={acc:.4f}\")\n",
        "\n",
        "    if acc > best_acc_iris:\n",
        "        best_acc_iris = acc\n",
        "        best_k_iris = k\n"
      ],
      "metadata": {
        "colab": {
          "base_uri": "https://localhost:8080/"
        },
        "id": "wsV0_mUi9xR5",
        "outputId": "b81222b0-c035-47ac-cb03-9030a72e85be"
      },
      "execution_count": 12,
      "outputs": [
        {
          "output_type": "stream",
          "name": "stdout",
          "text": [
            "Iris: k=1, Accuracy=1.0000\n",
            "Iris: k=2, Accuracy=1.0000\n",
            "Iris: k=3, Accuracy=1.0000\n",
            "Iris: k=4, Accuracy=1.0000\n",
            "Iris: k=5, Accuracy=1.0000\n",
            "Iris: k=6, Accuracy=1.0000\n",
            "Iris: k=7, Accuracy=1.0000\n",
            "Iris: k=8, Accuracy=1.0000\n",
            "Iris: k=9, Accuracy=1.0000\n",
            "Iris: k=10, Accuracy=1.0000\n"
          ]
        }
      ]
    },
    {
      "cell_type": "code",
      "source": [
        "#Train-test split + tune k and evaluate for news dataset\n",
        "\n",
        "best_k_news = 1\n",
        "best_acc_news = 0\n",
        "\n",
        "for k in range(1, 11):\n",
        "    X_train, X_test, y_train, y_test = train_test_split(X_news, y_news, test_size=0.3, random_state=42)\n",
        "\n",
        "    model = CustomKNN(k=k)\n",
        "    model.fit(X_train, y_train)\n",
        "    y_pred = model.predict(X_test)\n",
        "\n",
        "    acc = accuracy_score_custom(y_test, y_pred)\n",
        "    print(f\"News: k={k}, Accuracy={acc:.4f}\")\n",
        "\n",
        "    if acc > best_acc_news:\n",
        "        best_acc_news = acc\n",
        "        best_k_news = k\n"
      ],
      "metadata": {
        "colab": {
          "base_uri": "https://localhost:8080/"
        },
        "id": "EbhS8hWf-kGR",
        "outputId": "eac086ed-102d-4c85-db17-5967201bf82c"
      },
      "execution_count": 13,
      "outputs": [
        {
          "output_type": "stream",
          "name": "stdout",
          "text": [
            "News: k=1, Accuracy=0.3333\n",
            "News: k=2, Accuracy=0.3333\n",
            "News: k=3, Accuracy=0.3333\n",
            "News: k=4, Accuracy=0.3333\n",
            "News: k=5, Accuracy=0.3333\n",
            "News: k=6, Accuracy=0.3333\n",
            "News: k=7, Accuracy=0.3333\n",
            "News: k=8, Accuracy=0.3333\n",
            "News: k=9, Accuracy=0.3333\n",
            "News: k=10, Accuracy=0.3333\n"
          ]
        }
      ]
    },
    {
      "cell_type": "code",
      "source": [
        "#Compare with scikit-learn's knn for iris dataset\n",
        "\n",
        "from sklearn.neighbors import KNeighborsClassifier\n",
        "from sklearn.metrics import accuracy_score, confusion_matrix, precision_score, recall_score, f1_score\n",
        "\n",
        "# Iris\n",
        "X_train, X_test, y_train, y_test = train_test_split(X_iris_scaled, y_iris, test_size=0.3, random_state=42)\n",
        "\n",
        "# Instantiate and train a new CustomKNN model for the Iris dataset\n",
        "custom_model_iris = CustomKNN(k=best_k_iris) # Use the best k found for Iris\n",
        "custom_model_iris.fit(X_train, y_train)\n",
        "custom_preds_iris = custom_model_iris.predict(X_test)\n",
        "\n",
        "\n",
        "sk_model_iris = KNeighborsClassifier(n_neighbors=best_k_iris)\n",
        "sk_model_iris.fit(X_train, y_train)\n",
        "sk_preds_iris = sk_model_iris.predict(X_test)\n",
        "\n",
        "print(\"\\n--- IRIS ---\")\n",
        "print(\"Custom Accuracy:\", accuracy_score_custom(y_test, custom_preds_iris))\n",
        "print(\"Sklearn Accuracy:\", accuracy_score(y_test, sk_preds_iris))"
      ],
      "metadata": {
        "colab": {
          "base_uri": "https://localhost:8080/"
        },
        "id": "QEEg7H83-xQd",
        "outputId": "c1c6bc03-6f49-4380-a759-af1cfd639cd9"
      },
      "execution_count": 14,
      "outputs": [
        {
          "output_type": "stream",
          "name": "stdout",
          "text": [
            "\n",
            "--- IRIS ---\n",
            "Custom Accuracy: 1.0\n",
            "Sklearn Accuracy: 1.0\n"
          ]
        }
      ]
    },
    {
      "cell_type": "code",
      "source": [
        "# News\n",
        "X_train, X_test, y_train, y_test = train_test_split(X_news, y_news, test_size=0.3, random_state=42)\n",
        "\n",
        "sk_model_news = KNeighborsClassifier(n_neighbors=best_k_news)\n",
        "sk_model_news.fit(X_train, y_train)\n",
        "sk_preds_news = sk_model_news.predict(X_test)\n",
        "\n",
        "print(\"\\n--- NEWS ---\")\n",
        "print(\"Custom Accuracy:\", accuracy_score_custom(y_test, model.predict(X_test)))\n",
        "print(\"Sklearn Accuracy:\", accuracy_score(y_test, sk_preds_news))\n"
      ],
      "metadata": {
        "colab": {
          "base_uri": "https://localhost:8080/"
        },
        "id": "ognf7HdkAbhu",
        "outputId": "5f534a6f-2222-422a-e1fc-312d5f9a2edf"
      },
      "execution_count": 15,
      "outputs": [
        {
          "output_type": "stream",
          "name": "stdout",
          "text": [
            "\n",
            "--- NEWS ---\n",
            "Custom Accuracy: 0.3333333333333333\n",
            "Sklearn Accuracy: 0.3333333333333333\n"
          ]
        }
      ]
    },
    {
      "cell_type": "code",
      "source": [
        "# Example: Detailed report for IRIS\n",
        "cm = confusion_matrix_custom(y_test, model.predict(X_test), labels=[0, 1, 2])\n",
        "precision, recall, f1 = precision_recall_f1_custom(cm)\n",
        "\n",
        "print(\"\\nCustom Confusion Matrix:\\n\", cm)\n",
        "print(\"Precision:\", precision)\n",
        "print(\"Recall:   \", recall)\n",
        "print(\"F1 Score: \", f1)\n"
      ],
      "metadata": {
        "colab": {
          "base_uri": "https://localhost:8080/"
        },
        "id": "ayiJd9KOAv42",
        "outputId": "1f5e3e08-0e01-447a-b155-1b7b6d2b0982"
      },
      "execution_count": 16,
      "outputs": [
        {
          "output_type": "stream",
          "name": "stdout",
          "text": [
            "\n",
            "Custom Confusion Matrix:\n",
            " [[1 0 0]\n",
            " [2 0 0]\n",
            " [0 0 0]]\n",
            "Precision: [0.33333333 0.         0.        ]\n",
            "Recall:    [0.99999999 0.         0.        ]\n",
            "F1 Score:  [0.49999999 0.         0.        ]\n"
          ]
        }
      ]
    }
  ]
}